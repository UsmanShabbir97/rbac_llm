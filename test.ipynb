{
 "cells": [
  {
   "cell_type": "code",
   "execution_count": 15,
   "metadata": {},
   "outputs": [],
   "source": [
    "from langchain_community.document_loaders import PyPDFLoader, TextLoader, CSVLoader, Docx2txtLoader\n",
    "from dotenv import load_dotenv\n",
    "import os\n",
    "from langchain_openai import ChatOpenAI\n",
    "from langchain_core.prompts import ChatPromptTemplate, PromptTemplate\n",
    "from langchain.schema.output_parser import StrOutputParser\n",
    "from langchain.memory import ConversationBufferMemory\n",
    "from langchain.chains import ConversationalRetrievalChain\n",
    "from langchain.text_splitter import RecursiveCharacterTextSplitter\n",
    "from langchain.vectorstores import FAISS\n",
    "from langchain_openai import OpenAIEmbeddings\n",
    "from services.Prompt import document_template"
   ]
  },
  {
   "cell_type": "code",
   "execution_count": 16,
   "metadata": {},
   "outputs": [],
   "source": [
    "def load_content(file):\n",
    "    if file.endswith(\".pdf\"):\n",
    "        return PyPDFLoader(file).load()\n",
    "    if file.endswith(\".txt\"):\n",
    "        return TextLoader(file).load()\n",
    "    if file.endswith(\".csv\"):\n",
    "        return CSVLoader(file).load()\n",
    "    if file.endswith(\".docx\"):\n",
    "        return Docx2txtLoader(file).load()\n",
    "    else:\n",
    "        raise Exception(\"Unsupported file format\")\n"
   ]
  },
  {
   "cell_type": "code",
   "execution_count": 17,
   "metadata": {},
   "outputs": [],
   "source": [
    "def split_embed(data):\n",
    "    text_splitter = RecursiveCharacterTextSplitter(chunk_size=1000, chunk_overlap=200)\n",
    "    splitted_data = text_splitter.split_documents(data)\n",
    "    embeddings = OpenAIEmbeddings()\n",
    "    vectorstore = FAISS.from_documents(splitted_data, embedding=embeddings)\n",
    "    return vectorstore\n",
    "\n"
   ]
  },
  {
   "cell_type": "code",
   "execution_count": 18,
   "metadata": {},
   "outputs": [],
   "source": [
    "load_dotenv()\n",
    "\n",
    "OPENAI_API_KEY = os.getenv(\"OPENAI_API_KEY\")\n",
    "\n",
    "if OPENAI_API_KEY is None:\n",
    "    raise Exception(\"OPENAI_API_KEY is not set\")\n",
    "\n",
    "llm = ChatOpenAI(temperature=0.7, model_name=\"gpt-4\")\n",
    "global_memory = ConversationBufferMemory(memory_key='chat_history', return_messages=True)\n",
    "\n",
    "\n",
    "def document_loader(file):\n",
    "    if file:\n",
    "        load_text = load_content(file)\n",
    "        return split_embed(load_text)\n",
    "    else:\n",
    "        raise Exception(\"No file path provided\")\n",
    "    \n",
    "\n",
    "def document_chat(file, text):\n",
    "    # Retrieve file data, convert to vectorstore\n",
    "    vectorstore = document_loader(file)\n",
    "    # Search for relevant chunks\n",
    "    relevant_docs = vectorstore.similarity_search(text, k=3)\n",
    "    \n",
    "    # Combine relevant doc chunks into a single context string\n",
    "    context_text = \"\\n\\n\".join([doc.page_content for doc in relevant_docs]) if relevant_docs else \"\"\n",
    "    \n",
    "    # Retrieve past conversation from memory\n",
    "    past_messages = global_memory.chat_memory.messages\n",
    "\n",
    "    # Modify your document_template to reference both context and history\n",
    "    # For example:\n",
    "    prompt = ChatPromptTemplate.from_template(\"\"\"\n",
    "    You are a helpful assistant.\n",
    "    Document content:\n",
    "    ---\n",
    "    {context}\n",
    "    ---\n",
    "    Below is the conversation history so far:\n",
    "    {history}\n",
    "\n",
    "    User's question: {question}\n",
    "    Answer as best you can, referencing both the document content and conversation history.\n",
    "    \"\"\")\n",
    "\n",
    "    # Chain everything together\n",
    "    chain = prompt | llm | StrOutputParser()\n",
    "    response = chain.invoke({\n",
    "        \"context\": context_text,\n",
    "        \"history\": past_messages,\n",
    "        \"question\": text\n",
    "    })\n",
    "\n",
    "    # Add latest user and AI messages to memory\n",
    "    global_memory.chat_memory.add_user_message(text)\n",
    "    global_memory.chat_memory.add_ai_message(response)\n",
    "\n",
    "    return response\n",
    "\n",
    "def handle_chat(file, text):\n",
    "    if file:\n",
    "        response = document_chat(file, text)\n",
    "        \n",
    "        return response\n",
    "    else:\n",
    "        prompt = PromptTemplate.from_template(\n",
    "            \"\"\"You are a helpful assistant.\n",
    "            Current conversation:\n",
    "            {history}\n",
    "            Human: {input}\n",
    "            AI Assistant:\"\"\"\n",
    "        )\n",
    "        chain = prompt | llm | StrOutputParser()\n",
    "        past_messages = global_memory.load_memory_variables({}).get(\"chat_history\", [])\n",
    "        \n",
    "        response = chain.invoke({\"input\": text, \"history\": past_messages})\n",
    "        \n",
    "        global_memory.chat_memory.add_user_message(text)\n",
    "        global_memory.chat_memory.add_ai_message(response)\n",
    "        \n",
    "        return response"
   ]
  },
  {
   "cell_type": "code",
   "execution_count": 21,
   "metadata": {},
   "outputs": [
    {
     "data": {
      "text/plain": [
       "'Your name is Husnain.'"
      ]
     },
     "execution_count": 21,
     "metadata": {},
     "output_type": "execute_result"
    }
   ],
   "source": [
    "handle_chat(file=None,text=\"what is my name\")"
   ]
  }
 ],
 "metadata": {
  "kernelspec": {
   "display_name": "llm",
   "language": "python",
   "name": "python3"
  },
  "language_info": {
   "codemirror_mode": {
    "name": "ipython",
    "version": 3
   },
   "file_extension": ".py",
   "mimetype": "text/x-python",
   "name": "python",
   "nbconvert_exporter": "python",
   "pygments_lexer": "ipython3",
   "version": "3.12.9"
  }
 },
 "nbformat": 4,
 "nbformat_minor": 2
}
